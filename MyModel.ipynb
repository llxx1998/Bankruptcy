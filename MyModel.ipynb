{
 "cells": [
  {
   "cell_type": "code",
   "execution_count": 16,
   "metadata": {},
   "outputs": [],
   "source": [
    "import pandas as pd\n",
    "import os\n",
    "from sklearn.experimental import enable_iterative_imputer\n",
    "from sklearn.impute import IterativeImputer\n",
    "from imblearn.pipeline import Pipeline, make_pipeline\n",
    "from imblearn.over_sampling import SMOTE\n",
    "from sklearn.linear_model import LogisticRegression\n",
    "from sklearn.ensemble import BaggingClassifier\n",
    "\n",
    "from Model_functions import *\n",
    "from Supporting_functions import *\n",
    "\n",
    "def MyModel(X):\n",
    "    # It should create an array of predictions; we initialize it to the empty array for convenience\n",
    "    predictions = []\n",
    "    \n",
    "    # YOUR CODE GOES HERE\n",
    "    sppt = Sfunc()\n",
    "    mdl = Mfunc()\n",
    "    \n",
    "    DATA_DIR = \"./Data\"\n",
    "    if not os.path.isdir(DATA_DIR):\n",
    "        DATA_DIR = \"../resource/asnlib/publicdata/bankruptcy/data\"\n",
    "    data_file = \"5th_yr.csv\"\n",
    "    data = pd.read_csv( os.path.join(DATA_DIR, \"train\", data_file))\n",
    "    data = data.apply(lambda x: pd.to_numeric(x, errors='coerce'))\n",
    "    X_train, y_train = data.iloc[:, :-2], data.iloc[:, -2]\n",
    "    ## My classifier\n",
    "    classifier = BaggingClassifier(LogisticRegression(penalty='elasticnet', \n",
    "                                      fit_intercept=True, \n",
    "                                      class_weight='balanced', \n",
    "                                      solver='saga', \n",
    "                                      l1_ratio=0, max_iter=10000), max_samples=0.7, max_features=0.5)\n",
    "    clf_name = 'bag'\n",
    "    mimp = IterativeImputer()\n",
    "    out = Winsor()\n",
    "    scl = StandardScaler()\n",
    "    smt = SMOTE()\n",
    "\n",
    "    decided_pipe = Pipeline([('mimp', mimp), ('out', out), ('scl', scl), \n",
    "                         ('smt', smt), (clf_name, classifier)])\n",
    "    decided_pipe.fit(X_train, y_train)\n",
    "    X_treated = X.iloc[:, :64].apply(lambda x: pd.to_numeric(x, errors='coerce'))\n",
    "    predictions = decided_pipe.predict(X_treated)\n",
    "    return predictions"
   ]
  },
  {
   "cell_type": "code",
   "execution_count": 17,
   "metadata": {},
   "outputs": [
    {
     "name": "stderr",
     "output_type": "stream",
     "text": [
      "/Users/louxiao/opt/anaconda3/lib/python3.7/site-packages/sklearn/impute/_iterative.py:701: ConvergenceWarning: [IterativeImputer] Early stopping criterion not reached.\n",
      "  ConvergenceWarning,\n"
     ]
    },
    {
     "name": "stdout",
     "output_type": "stream",
     "text": [
      "(1092,)\n"
     ]
    }
   ],
   "source": [
    "## Standard imports\n",
    "import os\n",
    "DATA_DIR = \"./Data\"\n",
    "holdout_data = pd.read_csv( os.path.join(DATA_DIR, \"holdout\", '5th_yr.csv') )\n",
    "print(MyModel(holdout_data).shape)\n"
   ]
  }
 ],
 "metadata": {
  "kernelspec": {
   "display_name": "Python 3",
   "language": "python",
   "name": "python3"
  },
  "language_info": {
   "codemirror_mode": {
    "name": "ipython",
    "version": 3
   },
   "file_extension": ".py",
   "mimetype": "text/x-python",
   "name": "python",
   "nbconvert_exporter": "python",
   "pygments_lexer": "ipython3",
   "version": "3.7.4"
  },
  "toc": {
   "base_numbering": 1,
   "nav_menu": {},
   "number_sections": true,
   "sideBar": true,
   "skip_h1_title": false,
   "title_cell": "Table of Contents",
   "title_sidebar": "Contents",
   "toc_cell": false,
   "toc_position": {},
   "toc_section_display": true,
   "toc_window_display": false
  }
 },
 "nbformat": 4,
 "nbformat_minor": 2
}
